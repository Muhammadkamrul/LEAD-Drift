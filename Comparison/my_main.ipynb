{
 "cells": [
  {
   "cell_type": "code",
   "execution_count": null,
   "id": "e773a537",
   "metadata": {},
   "outputs": [],
   "source": [
    "#Generate dataset of different size and test the methods and log the results\n",
    "\n",
    "!python -m sweep_dataset_size \\\n",
    "  --data_dir data_dataset_compare_sweep \\\n",
    "  --out_dir out_sweep \\\n",
    "  --min_minutes 10000 \\\n",
    "  --max_minutes 100000 \\\n",
    "  --step_minutes 250 \\\n",
    "  --seed 42 \\\n",
    "  --epochs 25 \\\n",
    "  --batch 512 \\\n",
    "  --ema_window 5"
   ]
  },
  {
   "cell_type": "code",
   "execution_count": null,
   "id": "d90b8c87",
   "metadata": {},
   "outputs": [],
   "source": [
    "#Compute performance improvement of LEAD-Drift against the Baselines\n",
    "\n",
    "!python -m compute_improvements \\\n",
    "    --csv out_sweep/sweep_results.csv \\\n",
    "    --outdir out_sweep_imp \\\n",
    "    --min_size 5000 \\\n",
    "    --max_size 100000 \\\n",
    "    --lead_method \"LEAD-Drift (MLP)\""
   ]
  },
  {
   "cell_type": "code",
   "execution_count": null,
   "id": "b95e8748",
   "metadata": {},
   "outputs": [],
   "source": [
    "#Plot the comparison\n",
    "\n",
    "!python -m plot_gpt_comp_dataset_sizes \\\n",
    "  --csv out_sweep_1/sweep_results.csv \\\n",
    "  --outdir out_sweep_plot \\\n",
    "  --window 7 \\\n",
    "  --tick_size 25 --legend_size 25 --label_size 25 \\\n",
    "  --fig_width 20 --fig_height 14 --dpi 180 \\\n",
    "  --min_size 45000 --max_size 100000"
   ]
  },
  {
   "cell_type": "code",
   "execution_count": null,
   "id": "d4b77479",
   "metadata": {},
   "outputs": [],
   "source": [
    "#Plot the performance trade-off\n",
    "\n",
    "!python -m plot_tradeoff \\\n",
    "  --csv out_sweep/sweep_results.csv \\\n",
    "  --ideal_fp 1.0 \\\n",
    "  --ideal_lead 50 \\\n",
    "  --title_size 20 --label_size 16 --tick_size 14 --legend_size 14 \\\n",
    "  --marker_size 420 --legend_markersize 10 \\\n",
    "  --methods \"LEAD-Drift (MLP)\" \"Baseline 3 (Weighted KPIs)\" \"Baseline 4 (Paper's Method)\" \\\n",
    "  --outdir out_sweep_comp_tradoff"
   ]
  }
 ],
 "metadata": {
  "kernelspec": {
   "display_name": "onos_env",
   "language": "python",
   "name": "python3"
  },
  "language_info": {
   "codemirror_mode": {
    "name": "ipython",
    "version": 3
   },
   "file_extension": ".py",
   "mimetype": "text/x-python",
   "name": "python",
   "nbconvert_exporter": "python",
   "pygments_lexer": "ipython3",
   "version": "3.10.15"
  }
 },
 "nbformat": 4,
 "nbformat_minor": 5
}
