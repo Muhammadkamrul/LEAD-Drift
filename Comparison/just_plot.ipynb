{
 "cells": [
  {
   "cell_type": "code",
   "execution_count": 5,
   "id": "78e8488f",
   "metadata": {},
   "outputs": [
    {
     "name": "stdout",
     "output_type": "stream",
     "text": [
      "Saved: out_sweep_plot/sweep_beauty.png\n",
      "Saved: out_sweep_plot/sweep_beauty.svg\n"
     ]
    }
   ],
   "source": [
    "!python -m plot_gpt_comp_dataset_sizes \\\n",
    "  --csv out_sweep_1/sweep_results.csv \\\n",
    "  --outdir out_sweep_plot \\\n",
    "  --window 7 \\\n",
    "  --tick_size 25 --legend_size 25 --label_size 25 \\\n",
    "  --fig_width 20 --fig_height 14 --dpi 180 \\\n",
    "  --min_size 45000 --max_size 100000"
   ]
  }
 ],
 "metadata": {
  "kernelspec": {
   "display_name": "onos_env",
   "language": "python",
   "name": "python3"
  },
  "language_info": {
   "codemirror_mode": {
    "name": "ipython",
    "version": 3
   },
   "file_extension": ".py",
   "mimetype": "text/x-python",
   "name": "python",
   "nbconvert_exporter": "python",
   "pygments_lexer": "ipython3",
   "version": "3.10.15"
  }
 },
 "nbformat": 4,
 "nbformat_minor": 5
}
