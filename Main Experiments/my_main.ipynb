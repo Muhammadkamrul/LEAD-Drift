{
 "cells": [
  {
   "cell_type": "code",
   "execution_count": null,
   "id": "76592d3e",
   "metadata": {},
   "outputs": [],
   "source": [
    "#Generate dataset\n",
    "\n",
    "!python -m generate_final_dataset --out data_dataset_final/collector_health_data.csv --minutes 100000 --seed 42"
   ]
  },
  {
   "cell_type": "code",
   "execution_count": null,
   "id": "7f4fabf5",
   "metadata": {},
   "outputs": [],
   "source": [
    "#this code runs cross validation on complex dataset with new target feature estimation (gpt, better)\n",
    "\n",
    "!python -m cross_fold_eval_new \\\n",
    "  --data data_dataset_final/collector_health_data.csv \\\n",
    "  --folds 5 \\\n",
    "  --epochs 25 \\\n",
    "  --batch 512 \\\n",
    "  --ema_window 5 \\\n",
    "  --timesteps 15 \\\n",
    "  --label_mode horizon_binary \\\n",
    "  --horizon_min 120 \\\n",
    "  --outdir out_evaluate_cross_val_new_comp_100000"
   ]
  },
  {
   "cell_type": "code",
   "execution_count": null,
   "id": "7af2fe1f",
   "metadata": {},
   "outputs": [],
   "source": [
    "!python -m train_proactive_model \\\n",
    "    --data data_dataset_final/collector_health_data.csv \\\n",
    "    --outdir out_risk_model_new \\\n",
    "    --horizon 120"
   ]
  },
  {
   "cell_type": "code",
   "execution_count": null,
   "id": "3479e20d",
   "metadata": {},
   "outputs": [],
   "source": [
    "!python -m explain_alert \\\n",
    "    --data data_dataset_final/collector_health_data.csv \\\n",
    "    --model_path out_risk_model_new/risk_model_proactive_h120.h5 \\\n",
    "    --alert_index 95000 \\\n",
    "    --outdir shap_explanation\n",
    "\n",
    "#The scripts use an 80/20 split for train/test. So, if the full dataset has 100,000 rows, it would train on the first 80,000, \n",
    "#and any index for explanation from the remaining 20,000 (e.g., index 95,000) would be a valid test data point."
   ]
  },
  {
   "cell_type": "code",
   "execution_count": null,
   "id": "30b03c5e",
   "metadata": {},
   "outputs": [],
   "source": [
    "!python -m train_multi_horizon \\\n",
    "    --data data_dataset_final/collector_health_data.csv \\\n",
    "    --outdir out_multi_horizon_models \\\n",
    "    --horizons 30 60 120"
   ]
  },
  {
   "cell_type": "code",
   "execution_count": null,
   "id": "160b510b",
   "metadata": {},
   "outputs": [],
   "source": [
    "!python -m evaluate_multi_horizon \\\n",
    "    --data data_dataset_final/collector_health_data.csv \\\n",
    "    --models_dir out_multi_horizon_models \\\n",
    "    --event_index 0 \\\n",
    "    --outdir out_multi_horizon_eval"
   ]
  }
 ],
 "metadata": {
  "kernelspec": {
   "display_name": "odlonos",
   "language": "python",
   "name": "python3"
  },
  "language_info": {
   "codemirror_mode": {
    "name": "ipython",
    "version": 3
   },
   "file_extension": ".py",
   "mimetype": "text/x-python",
   "name": "python",
   "nbconvert_exporter": "python",
   "pygments_lexer": "ipython3",
   "version": "3.12.11"
  }
 },
 "nbformat": 4,
 "nbformat_minor": 5
}
